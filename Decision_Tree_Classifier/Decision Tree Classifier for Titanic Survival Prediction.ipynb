{
 "cells": [
  {
   "cell_type": "markdown",
   "id": "3b43aad2-c9c0-40bd-9c7f-080ed7bf2672",
   "metadata": {},
   "source": [
    "# Decision Tree Classifier for Titanic Survival Prediction"
   ]
  },
  {
   "cell_type": "code",
   "execution_count": 10,
   "id": "26709fb5-462f-4459-882c-3e0fb01f59eb",
   "metadata": {},
   "outputs": [],
   "source": [
    "import pandas as pd\n",
    "from sklearn.model_selection import train_test_split\n",
    "from sklearn.tree import DecisionTreeClassifier\n",
    "from sklearn.metrics import accuracy_score\n",
    "from sklearn.metrics import ConfusionMatrixDisplay\n",
    "import matplotlib.pyplot as plt\n",
    "\n",
    "#Load Titanic dataset \n",
    "data = pd.read_csv('/Users/rachaelchilds/Desktop/datasets/Titanic-Dataset.csv')"
   ]
  },
  {
   "cell_type": "code",
   "execution_count": 11,
   "id": "fc821497-91da-4eda-8e0a-4fdc46665582",
   "metadata": {},
   "outputs": [],
   "source": [
    "#Preprocessing: Selecting relevant features\n",
    "#Convert 'Sex' into numeric (male = 0, female = 1) \n",
    "data['Sex'] = data['Sex'].map({'male': 0, 'female': 1})"
   ]
  },
  {
   "cell_type": "code",
   "execution_count": 9,
   "id": "7b7ccd6a-8f11-4cc2-a683-a5558b7b2b98",
   "metadata": {},
   "outputs": [
    {
     "name": "stdout",
     "output_type": "stream",
     "text": [
      "Accuracy: 0.7541899441340782\n"
     ]
    }
   ],
   "source": [
    "#Filling missing values\n",
    "data.fillna({'Age': data['Age'].mean()}, inplace=True)\n",
    "\n",
    "#Features (X) and Target (y)\n",
    "\n",
    "X = data[['Pclass', 'Sex', 'Age', 'SibSp', 'Parch', 'Fare']]\n",
    "#Features\n",
    "y = data['Survived'] #Target variable (0 = did not survive, 1 = survived)\n",
    "\n",
    "#Train-test split\n",
    "X_train, X_test, y_train, y_test = train_test_split(X, y, test_size=0.2, random_state=42)\n",
    "\n",
    "#Create and train Decision Tree model\n",
    "model = DecisionTreeClassifier(random_state=42)\n",
    "model.fit(X_train, y_train)\n",
    "\n",
    "#Predictions\n",
    "y_pred = model.predict(X_test)\n",
    "\n",
    "#Evaluate the model \n",
    "print('Accuracy:', accuracy_score(y_test, y_pred)) #Measure how well the model is performin\n",
    "          "
   ]
  },
  {
   "cell_type": "code",
   "execution_count": null,
   "id": "ba26d28f-4d18-44bd-8488-c61ad60d3838",
   "metadata": {},
   "outputs": [],
   "source": [
    "ConfusionMatrixDisplay.from_estimator(model, X_test, y_test, cmap='Blues')\n",
    "plt.title(\"Confusion Matrix: Titanic Survival\")\n",
    "plt.show()"
   ]
  },
  {
   "cell_type": "code",
   "execution_count": null,
   "id": "a6162bfc-eea9-4fde-8a17-2955d9152ef5",
   "metadata": {},
   "outputs": [],
   "source": [
    "ConfusionMatrixDisplay.from_estimator(model, X_test, y_test, cmap="
   ]
  }
 ],
 "metadata": {
  "kernelspec": {
   "display_name": "Python 3 (ipykernel)",
   "language": "python",
   "name": "python3"
  },
  "language_info": {
   "codemirror_mode": {
    "name": "ipython",
    "version": 3
   },
   "file_extension": ".py",
   "mimetype": "text/x-python",
   "name": "python",
   "nbconvert_exporter": "python",
   "pygments_lexer": "ipython3",
   "version": "3.13.3"
  }
 },
 "nbformat": 4,
 "nbformat_minor": 5
}
